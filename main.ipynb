{
 "cells": [
  {
   "cell_type": "markdown",
   "metadata": {},
   "source": [
    "知识图谱构建\n",
    "- 定义本体\n",
    "状态事件\n",
    "动作事件\n",
    "- 定义本体关系\n",
    "包含关系\n",
    "顺承关系\n",
    "条件关系FerN \n",
    "- 定义本体属性\n",
    "无属性"
   ]
  },
  {
   "cell_type": "code",
   "execution_count": null,
   "metadata": {},
   "outputs": [],
   "source": [
    "from langchain_community.graphs import Neo4jGraph\n",
    "graph = Neo4jGraph(\n",
    "    url=\"neo4j+s://5404bafd.databases.neo4j.io\",\n",
    "    username=\"neo4j\",\n",
    "    password=\"8cOI1OjA_bzB8egjk2m1-DDWaYSr3zYv2V-StjjCyOA\",\n",
    ")"
   ]
  }
 ],
 "metadata": {
  "kernelspec": {
   "display_name": "qibendeepl",
   "language": "python",
   "name": "python3"
  },
  "language_info": {
   "codemirror_mode": {
    "name": "ipython",
    "version": 3
   },
   "file_extension": ".py",
   "mimetype": "text/x-python",
   "name": "python",
   "nbconvert_exporter": "python",
   "pygments_lexer": "ipython3",
   "version": "3.11.8"
  }
 },
 "nbformat": 4,
 "nbformat_minor": 2
}
